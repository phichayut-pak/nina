{
 "cells": [
  {
   "cell_type": "code",
   "execution_count": null,
   "id": "db8952ac",
   "metadata": {},
   "outputs": [],
   "source": [
    "#group 12 \n",
    "import os\n",
    "# example of recipe in txt\n",
    "# ID;Name;Ingredient1|Ingredient2|...;Instruction1|Instruction2|...;Calories"
   ]
  },
  {
   "cell_type": "code",
   "execution_count": null,
   "id": "e98b3bfc",
   "metadata": {
    "lines_to_next_cell": 1
   },
   "outputs": [],
   "source": [
    "#responsible by Pitsinee Chantarothai \n",
    "def clear_screen():\n",
    "    os.system(\"cls\" if os.name == \"nt\" else \"clear\")"
   ]
  },
  {
   "cell_type": "code",
   "execution_count": null,
   "id": "e5bf5833",
   "metadata": {
    "lines_to_next_cell": 1
   },
   "outputs": [],
   "source": [
    "#responsible by Pitsinee Chantarothai    \n",
    "# Load the file \n",
    "def load(filename):\n",
    "    try:\n",
    "        with open(filename, 'r') as file:\n",
    "            recipes = file.readlines() \n",
    "    except FileNotFoundError:\n",
    "        print(f\"Error: The file '{filename}' was not found.\")\n",
    "        recipes = []\n",
    "    except PermissionError:\n",
    "        print(f\"Error: You do not have permission to read '{filename}'.\")\n",
    "        recipes = []\n",
    "    except IsADirectoryError:\n",
    "        print(f\"Error: '{filename}' is a directory, not a file.\")\n",
    "        recipes = []\n",
    "    except UnicodeDecodeError:\n",
    "        print(f\"Error: Could not decode '{filename}'. The file encoding may be unsupported.\")\n",
    "        recipes = []\n",
    "    except IOError:\n",
    "        print(f\"Error: Could not read file '{filename}'.\")\n",
    "        recipes = []\n",
    "\n",
    "    return recipes"
   ]
  },
  {
   "cell_type": "code",
   "execution_count": null,
   "id": "f31dbdb9",
   "metadata": {
    "lines_to_next_cell": 1
   },
   "outputs": [],
   "source": [
    "#responsible by Pitsinee Chantarothai  \n",
    "# Overwrite the file\n",
    "def save(filename, recipes): \n",
    "    try:\n",
    "        with open(filename, 'w') as file:\n",
    "            file.writelines(recipes) \n",
    "    except IOError:\n",
    "        print(f\"Error: Unable to write to file '{filename}'.\")"
   ]
  },
  {
   "cell_type": "code",
   "execution_count": null,
   "id": "adb3624a",
   "metadata": {
    "lines_to_next_cell": 1
   },
   "outputs": [],
   "source": [
    "#responsible by Suwaphit Dechritthirong\n",
    "def add_recipe(filename, name, ingredients, instructions, calories):\n",
    "    recipes = load(filename)\n",
    "\n",
    "    if recipes:\n",
    "        last_id = 0\n",
    "        for recipe in recipes:\n",
    "            recipe_parts = recipe.strip().split(\";\")\n",
    "            current_id = int(recipe_parts[0])\n",
    "            if(current_id > last_id):\n",
    "                last_id = current_id\n",
    "    else:\n",
    "        last_id = 0\n",
    "\n",
    "    new_id = last_id + 1\n",
    "\n",
    "    ingredients_str = '|'.join(ingredients)\n",
    "    instructions_str = '|'.join(instructions)\n",
    "\n",
    "    new_recipe = f\"{new_id};{name};{ingredients_str};{instructions_str};{calories}\\n\"\n",
    "\n",
    "    try:\n",
    "        with open(filename, 'a') as file:\n",
    "            file.write(new_recipe)\n",
    "        \n",
    "        print(f\"Recipe '{name}' added with ID {new_id}\")\n",
    "    \n",
    "    except IOError:\n",
    "        print(f\"Error: Unable to write to file '{filename}'.\")"
   ]
  },
  {
   "cell_type": "code",
   "execution_count": null,
   "id": "1b5d0745",
   "metadata": {
    "lines_to_next_cell": 1
   },
   "outputs": [],
   "source": [
    "#responsible by Suwaphit Dechritthirong     \n",
    "# Update by ID\n",
    "def update_recipe(filename, recipe_id, new_name, new_ingredients, new_instructions, new_calories):\n",
    "    recipes = load(filename)\n",
    "    updated = False\n",
    "\n",
    "    for index, recipe in enumerate(recipes): \n",
    "        # for index in range(len(recipes)) --> find index\n",
    "        # for recipe in recipes --> get recipe line by line\n",
    "\n",
    "        recipe_data = recipe.strip().split(\";\")\n",
    "        if int(recipe_data[0]) == int(recipe_id):\n",
    "            ingredients_str = '|'.join(new_ingredients)\n",
    "            instructions_str = '|'.join(new_instructions)\n",
    "            recipes[index] = f\"{recipe_id};{new_name};{ingredients_str};{instructions_str};{new_calories}\\n\"\n",
    "            updated = True\n",
    "            break\n",
    "\n",
    "    if updated:\n",
    "        save(filename, recipes)\n",
    "        print(f\"Recipe with ID {recipe_id} updated successfully.\")\n",
    "    else:\n",
    "        print(f\"Error: Recipe with ID: {recipe_id} not found.\")"
   ]
  },
  {
   "cell_type": "code",
   "execution_count": null,
   "id": "56f216a4",
   "metadata": {
    "lines_to_next_cell": 1
   },
   "outputs": [],
   "source": [
    "#responsible by Voranipit Apichatchote  \n",
    "# Delete by ID\n",
    "def delete_recipe(filename, recipe_id):\n",
    "    recipes = load(filename)\n",
    "    initial_count = len(recipes)\n",
    "\n",
    "    new_recipes = []\n",
    "    for recipe in recipes:\n",
    "        recipe_parts = recipe.split(\";\")\n",
    "        if len(recipe_parts) >= 1 and int(recipe_parts[0]) != int(recipe_id):\n",
    "            new_recipes.append(recipe)\n",
    "\n",
    "    if len(new_recipes) < initial_count:\n",
    "        save(filename, new_recipes)\n",
    "        print(f\"Recipe with ID {recipe_id} deleted successfully.\")\n",
    "    else:\n",
    "        print(f\"Error: Recipe with ID {recipe_id} not found.\")"
   ]
  },
  {
   "cell_type": "code",
   "execution_count": null,
   "id": "b1f3eac4",
   "metadata": {
    "lines_to_next_cell": 1
   },
   "outputs": [],
   "source": [
    "#responsible by Voranipit Apichatchote      \n",
    "def display_recipes(filename):\n",
    "    recipes = load(filename)\n",
    "    print(\"========================================================================\\n\")\n",
    "    for recipe in recipes:\n",
    "        recipe = recipe.strip().split(\";\")\n",
    "        recipe_id = recipe[0]\n",
    "        name = recipe[1]\n",
    "        ingredients = recipe[2].split(\"|\")\n",
    "        instructions = recipe[3].split(\"|\")\n",
    "        calories = recipe[4]\n",
    "\n",
    "        print(f\"{recipe_id}. {name}\")\n",
    "        print(\"- Ingredients\")\n",
    "\n",
    "        for ingredient in ingredients:\n",
    "            print(f\"     - {ingredient}\")\n",
    "            \n",
    "        print(\"- Instructions\")\n",
    "        \n",
    "        for index, instruction in enumerate(instructions, start=1):\n",
    "            print(f\"     {index}. {instruction}\")\n",
    "\n",
    "        print(f\"- Calories: {calories} kcal\\n\")\n",
    "        print(\"========================================================================\")"
   ]
  },
  {
   "cell_type": "code",
   "execution_count": null,
   "id": "e7fd2af2",
   "metadata": {
    "lines_to_next_cell": 1
   },
   "outputs": [],
   "source": [
    "#responsible by Voranipit Apichatchote  \n",
    "def filter_by_calories(filename, max_calories):\n",
    "    recipes = load(filename)\n",
    "\n",
    "    filtered_recipes = list(filter(\n",
    "        lambda recipe: int(recipe.strip().split(';')[4]) <= max_calories if len(recipe.strip().split(';')) == 5 else False,\n",
    "        recipes\n",
    "    ))\n",
    "\n",
    "    if(filtered_recipes == []):\n",
    "        print(f\"\\nRecipes with Calories <= {max_calories} Not Found.\")\n",
    "        return\n",
    "\n",
    "    print(f\"\\nRecipes with Calories <= {max_calories}:\")\n",
    "    for recipe in filtered_recipes:\n",
    "        recipe_parts = recipe.strip().split(';')\n",
    "        \n",
    "        # Extract recipe details\n",
    "        recipe_id = recipe_parts[0]\n",
    "        name = recipe_parts[1]\n",
    "        ingredients = recipe_parts[2].split('|')\n",
    "        instructions = recipe_parts[3].split('|')\n",
    "        calories = recipe_parts[4]\n",
    "        \n",
    "        # Display recipe in the specified format\n",
    "        print(f\"{recipe_id}. {name}\")\n",
    "        print(f\"- Ingredients\")\n",
    "        for ingredient in ingredients:\n",
    "            print(f\"      - {ingredient}\")\n",
    "        print(f\"- Instructions\")\n",
    "        for i, instruction in enumerate(instructions, start=1):\n",
    "            print(f\"      {i}. {instruction}\")\n",
    "        print(f\"- Calories: {calories} kcal\\n\")"
   ]
  },
  {
   "cell_type": "code",
   "execution_count": null,
   "id": "e5cf2b70",
   "metadata": {},
   "outputs": [],
   "source": [
    "#responsible by Pukjira Thanomwong  \n",
    "WELCOME_ART = \"\"\"\n",
    "██████╗ ███████╗ ██████╗██╗██████╗ ███████╗    ███╗   ███╗ █████╗ ███╗   ██╗ █████╗  ██████╗ ███████╗██████╗ \n",
    "██╔══██╗██╔════╝██╔════╝██║██╔══██╗██╔════╝    ████╗ ████║██╔══██╗████╗  ██║██╔══██╗██╔════╝ ██╔════╝██╔══██╗\n",
    "██████╔╝█████╗  ██║     ██║██████╔╝█████╗      ██╔████╔██║███████║██╔██╗ ██║███████║██║  ███╗█████╗  ██████╔╝\n",
    "██╔══██╗██╔══╝  ██║     ██║██╔═══╝ ██╔══╝      ██║╚██╔╝██║██╔══██║██║╚██╗██║██╔══██║██║   ██║██╔══╝  ██╔══██╗\n",
    "██║  ██║███████╗╚██████╗██║██║     ███████╗    ██║ ╚═╝ ██║██║  ██║██║ ╚████║██║  ██║╚██████╔╝███████╗██║  ██║\n",
    "╚═╝  ╚═╝╚══════╝ ╚═════╝╚═╝╚═╝     ╚══════╝    ╚═╝     ╚═╝╚═╝  ╚═╝╚═╝  ╚═══╝╚═╝  ╚═╝ ╚═════╝ ╚══════╝╚═╝  ╚═╝                                                                                                     \n",
    "\"\"\""
   ]
  },
  {
   "cell_type": "code",
   "execution_count": null,
   "id": "81fa86da",
   "metadata": {},
   "outputs": [],
   "source": [
    "DISPLAY_ART = \"\"\"\n",
    "██████╗ ███████╗ ██████╗██╗██████╗ ███████╗███████╗\n",
    "██╔══██╗██╔════╝██╔════╝██║██╔══██╗██╔════╝██╔════╝\n",
    "██████╔╝█████╗  ██║     ██║██████╔╝█████╗  ███████╗\n",
    "██╔══██╗██╔══╝  ██║     ██║██╔═══╝ ██╔══╝  ╚════██║\n",
    "██║  ██║███████╗╚██████╗██║██║     ███████╗███████║\n",
    "╚═╝  ╚═╝╚══════╝ ╚═════╝╚═╝╚═╝     ╚══════╝╚══════╝\n",
    "\"\"\""
   ]
  },
  {
   "cell_type": "code",
   "execution_count": null,
   "id": "bb39f847",
   "metadata": {
    "lines_to_next_cell": 1
   },
   "outputs": [],
   "source": [
    "GOODBYE_ART = \"\"\"\n",
    " ██████╗  ██████╗  ██████╗ ██████╗     ██████╗ ██╗   ██╗███████╗\n",
    "██╔════╝ ██╔═══██╗██╔═══██╗██╔══██╗    ██╔══██╗╚██╗ ██╔╝██╔════╝\n",
    "██║  ███╗██║   ██║██║   ██║██║  ██║    ██████╔╝ ╚████╔╝ █████╗  \n",
    "██║   ██║██║   ██║██║   ██║██║  ██║    ██╔══██╗  ╚██╔╝  ██╔══╝  \n",
    "╚██████╔╝╚██████╔╝╚██████╔╝██████╔╝    ██████╔╝   ██║   ███████╗\n",
    " ╚═════╝  ╚═════╝  ╚═════╝ ╚═════╝     ╚═════╝    ╚═╝   ╚══════╝                                                             \n",
    "\"\"\"\n",
    "#responsible by Pitsinee Chantarothai\n",
    "def main():\n",
    "    filename = \"recipes.txt\"\n",
    "    clear_screen()\n",
    "    print(WELCOME_ART)  # Print the ASCII welcome art\n",
    "    print(\"Welcome to the Recipe Manager!\")\n",
    "    \n",
    "    while True:\n",
    "        print(\"\\nPlease select an option:\")\n",
    "        print(\"1. Add a new recipe\")\n",
    "        print(\"2. Update a recipe by ID\")\n",
    "        print(\"3. Delete a recipe by ID\")\n",
    "        print(\"4. Display all recipes\")\n",
    "        print(\"5. Filter recipes by calories\")\n",
    "        print(\"6. Exit\")\n",
    "\n",
    "        choice = input(\"Enter your choice (1-6): \")\n",
    "        clear_screen()\n",
    "\n",
    "        if choice == '1':\n",
    "            name = input(\"Enter the recipe name: \")\n",
    "            ingredients = input(\"Enter ingredients (separated by commas): \").split(\", \")\n",
    "            instructions = input(\"Enter instructions (separated by commas): \").split(\", \")\n",
    "            calories = input(\"Enter calories: \")\n",
    "            add_recipe(filename, name, ingredients, instructions, calories)\n",
    "        \n",
    "        elif choice == '2':\n",
    "            recipe_id = int(input(\"Enter the recipe ID to update: \"))\n",
    "            new_name = input(\"Enter the new name: \")\n",
    "            new_ingredients = input(\"Enter new ingredients (separated by commas): \").split(\", \")\n",
    "            new_instructions = input(\"Enter new instructions (separated by commas): \").split(\", \")\n",
    "            new_calories = input(\"Enter new calories: \")\n",
    "            update_recipe(filename, recipe_id, new_name, new_ingredients, new_instructions, new_calories)\n",
    "        \n",
    "        elif choice == '3':\n",
    "            recipe_id = int(input(\"Enter the recipe ID to delete: \"))\n",
    "            delete_recipe(filename, recipe_id)\n",
    "        \n",
    "        elif choice == '4':\n",
    "            print(DISPLAY_ART)\n",
    "            display_recipes(filename)\n",
    "        \n",
    "        elif choice == '5':\n",
    "            max_calories = int(input(\"Enter the maximum calories: \"))\n",
    "            filter_by_calories(filename, max_calories)\n",
    "        \n",
    "        elif choice == '6':\n",
    "            print(GOODBYE_ART)\n",
    "            print(\"Thank you for using the Recipe Manager.\")\n",
    "            break\n",
    "        \n",
    "        else:\n",
    "            print(\"Invalid choice. Please try again.\")\n",
    "\n",
    "        input(\"\\nPress Enter to return to the main menu...\")\n",
    "        clear_screen()"
   ]
  },
  {
   "cell_type": "code",
   "execution_count": null,
   "id": "339fc18e",
   "metadata": {},
   "outputs": [],
   "source": [
    "# Run the main program\n",
    "if __name__ == \"__main__\":\n",
    "    main()"
   ]
  }
 ],
 "metadata": {
  "jupytext": {
   "cell_metadata_filter": "-all",
   "main_language": "python",
   "notebook_metadata_filter": "-all"
  }
 },
 "nbformat": 4,
 "nbformat_minor": 5
}
